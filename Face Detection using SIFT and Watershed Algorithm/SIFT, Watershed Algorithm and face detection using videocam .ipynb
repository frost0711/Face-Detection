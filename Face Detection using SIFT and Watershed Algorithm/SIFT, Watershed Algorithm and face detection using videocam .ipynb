{
 "cells": [
  {
   "cell_type": "code",
   "execution_count": 1,
   "id": "c62fe9dd-927a-4131-ae34-a0d9bf18d862",
   "metadata": {},
   "outputs": [],
   "source": [
    "import cv2\n",
    "import numpy as np"
   ]
  },
  {
   "cell_type": "code",
   "execution_count": 2,
   "id": "0cc9e51b-a684-468a-b999-b50d8be6c8a4",
   "metadata": {},
   "outputs": [],
   "source": [
    "# Initialize the SIFT detector\n",
    "sift = cv2.SIFT_create()\n",
    "\n",
    "# Load the face cascade classifier\n",
    "face_cascade = cv2.CascadeClassifier('DATA/haarcascades/haarcascade_frontalface_default.xml')\n",
    "\n",
    "# Load the video capture object\n",
    "cap = cv2.VideoCapture(0)\n",
    "\n",
    "while True:\n",
    "    # Read a frame from the video stream\n",
    "    ret, frame = cap.read()\n",
    "\n",
    "    if not ret:\n",
    "        break\n",
    "\n",
    "    # Convert the frame to grayscale\n",
    "    gray = cv2.cvtColor(frame, cv2.COLOR_BGR2GRAY)\n",
    "\n",
    "    # Detect faces in the frame\n",
    "    faces = face_cascade.detectMultiScale(gray, scaleFactor=1.3, minNeighbors=5)\n",
    "\n",
    "    # Iterate over the detected faces\n",
    "    for (x, y, w, h) in faces:\n",
    "        # Draw a rectangle around each face\n",
    "        cv2.rectangle(frame, (x, y), (x + w, y + h), (0, 255, 0), 2)\n",
    "\n",
    "        # Crop the face region\n",
    "        face_region = gray[y:y + h, x:x + w]\n",
    "\n",
    "        # Detect keypoints and compute descriptors for the face region\n",
    "        keypoints, descriptors = sift.detectAndCompute(face_region, None)\n",
    "\n",
    "        # Perform some processing on the keypoints and descriptors\n",
    "        # ...\n",
    "\n",
    "        # Draw keypoints on the face region\n",
    "        face_with_keypoints = cv2.drawKeypoints(face_region, keypoints, None, (255, 0, 0), 0)\n",
    "\n",
    "        # Replace the face region with the modified face region\n",
    "        frame[y:y + h, x:x + w] = face_with_keypoints\n",
    "\n",
    "    # Apply the Watershed algorithm\n",
    "    # ...\n",
    "\n",
    "    # Display the processed frame\n",
    "    cv2.imshow('Video', frame)\n",
    "\n",
    "    # Check for the 'q' key to exit\n",
    "    if cv2.waitKey(1) & 0xFF == ord('q'):\n",
    "        break\n",
    "\n",
    "# Release the video capture object and close the windows\n",
    "cap.release()\n",
    "cv2.destroyAllWindows()"
   ]
  },
  {
   "cell_type": "code",
   "execution_count": null,
   "id": "5cc62ccc-5045-4515-af8a-b5ec4326e1ec",
   "metadata": {},
   "outputs": [],
   "source": []
  }
 ],
 "metadata": {
  "kernelspec": {
   "display_name": "Python 3 (ipykernel)",
   "language": "python",
   "name": "python3"
  },
  "language_info": {
   "codemirror_mode": {
    "name": "ipython",
    "version": 3
   },
   "file_extension": ".py",
   "mimetype": "text/x-python",
   "name": "python",
   "nbconvert_exporter": "python",
   "pygments_lexer": "ipython3",
   "version": "3.11.5"
  }
 },
 "nbformat": 4,
 "nbformat_minor": 5
}
